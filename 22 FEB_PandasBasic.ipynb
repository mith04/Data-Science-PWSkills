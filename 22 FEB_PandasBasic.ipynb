{
 "cells": [
  {
   "cell_type": "markdown",
   "id": "d888f1a2",
   "metadata": {},
   "source": [
    "# Q1. Create a Pandas Series that contains the following data: 4, 8, 15, 16, 23, and 42. Then, print the series.\n"
   ]
  },
  {
   "cell_type": "code",
   "execution_count": 1,
   "id": "9a93ccae",
   "metadata": {},
   "outputs": [
    {
     "name": "stdout",
     "output_type": "stream",
     "text": [
      "0     4\n",
      "1     8\n",
      "2    15\n",
      "3    16\n",
      "4    23\n",
      "5    42\n",
      "dtype: int64\n"
     ]
    }
   ],
   "source": [
    "import pandas as pd\n",
    "# create Series \n",
    "\n",
    "data=[4,8,15,16,23,42]\n",
    "series=pd.Series(data)\n",
    "print(series)"
   ]
  },
  {
   "cell_type": "markdown",
   "id": "7ba73a5b",
   "metadata": {},
   "source": [
    "# 2. Create a variable of list type containing 10 elements in it, and apply pandas.Series function on the variable print it"
   ]
  },
  {
   "cell_type": "code",
   "execution_count": 3,
   "id": "9fcbc09b",
   "metadata": {},
   "outputs": [
    {
     "name": "stdout",
     "output_type": "stream",
     "text": [
      "0     1\n",
      "1     2\n",
      "2     3\n",
      "3     4\n",
      "4     5\n",
      "5     6\n",
      "6     7\n",
      "7     8\n",
      "8     9\n",
      "9    10\n",
      "dtype: int64\n"
     ]
    }
   ],
   "source": [
    "import pandas as pd \n",
    "data_list=[1,2,3,4,5,6,7,8,9,10]\n",
    "\n",
    "series=pd.Series(data_list)\n",
    "print(series)"
   ]
  },
  {
   "cell_type": "markdown",
   "id": "174caeae",
   "metadata": {},
   "source": [
    "# 3.Create a Pandas DataFrame that contains the following data:Then, print the DataFrame"
   ]
  },
  {
   "cell_type": "code",
   "execution_count": 6,
   "id": "57ec3f2e",
   "metadata": {},
   "outputs": [
    {
     "name": "stdout",
     "output_type": "stream",
     "text": [
      "     Name  Age  Gender\n",
      "0   Alice   25  Female\n",
      "1     Bob   30    Male\n",
      "2  Claire   27  Female\n"
     ]
    }
   ],
   "source": [
    "    data={\n",
    "        'Name':['Alice','Bob','Claire'],\n",
    "        'Age':[25,30,27],\n",
    "        'Gender':['Female','Male','Female']\n",
    "        }\n",
    "    \n",
    "    df=pd.DataFrame(data)\n",
    "    print(df)"
   ]
  },
  {
   "cell_type": "markdown",
   "id": "5587b813",
   "metadata": {},
   "source": [
    "# Q4. What is ‘DataFrame’ in pandas and how is it different from pandas.series? Explain with an example.\n"
   ]
  },
  {
   "cell_type": "markdown",
   "id": "a841f1e3",
   "metadata": {},
   "source": [
    "\n",
    "In Pandas, a DataFrame is a two-dimensional labeled data structure that is commonly used for data manipulation and analysis. It is similar to a spreadsheet or a SQL table, where data is organized into rows and columns. Each column in a DataFrame can have a different data type (e.g., integer, float, string) and is essentially a Pandas Series.\n",
    "\n",
    "A Pandas Series, on the other hand, is a one-dimensional labeled array capable of holding data of any type. It can be thought of as a single column of data in a DataFrame. Series objects have an index that allows for fast and efficient data retrieval.\n",
    "\n",
    "\n",
    "# Below is the Example demonstrating Difference between DataFrame and series "
   ]
  },
  {
   "cell_type": "code",
   "execution_count": 11,
   "id": "d9d61c04",
   "metadata": {},
   "outputs": [
    {
     "name": "stdout",
     "output_type": "stream",
     "text": [
      "      Name  Age  Gender\n",
      "0    Alice   30  female\n",
      "1      Bob   20    Male\n",
      "2  Charlie   40  Female\n",
      "=======series===========\n",
      "0      10\n",
      "1    20.5\n",
      "2    30.5\n",
      "3    Alex\n",
      "dtype: object\n"
     ]
    }
   ],
   "source": [
    "import pandas as pd\n",
    "\n",
    "data={\n",
    "    'Name':['Alice','Bob','Charlie'],\n",
    "    'Age':[30,20,40],\n",
    "    'Gender':['female','Male','Female']\n",
    "}\n",
    "\n",
    "#creating  dataFrame\n",
    "df=pd.DataFrame(data)\n",
    "\n",
    "#printing DataFrame\n",
    "print(df)\n",
    "\n",
    "print('=======series===========')\n",
    "#creating series \n",
    "\n",
    "series=pd.Series([10,20.5,30.5,'Alex'])\n",
    "print(series)"
   ]
  },
  {
   "cell_type": "markdown",
   "id": "88f8fba3",
   "metadata": {},
   "source": [
    "# 5. What are some common functions you can use to manipulate data in a Pandas DataFrame? Can you give an example of when you might use one of these functions?"
   ]
  },
  {
   "cell_type": "markdown",
   "id": "6c57a0b6",
   "metadata": {},
   "source": [
    "head() and tail(): Used to view the first or last n rows of the DataFrame.\n",
    "\n",
    "info(): Provides a concise summary of the DataFrame including column data types and non-null counts.\n",
    "\n",
    "describe(): Generates descriptive statistics of the DataFrame, such as count, mean, standard deviation, minimum, maximum, etc.\n",
    "\n",
    "loc[] and iloc[]: Used for label-based and integer-based indexing, respectively, to access specific rows and columns in the DataFrame.\n",
    "\n",
    "drop(): Allows you to remove rows or columns from the DataFrame.\n",
    "\n",
    "fillna(): Fills missing values (NaN) in the DataFrame with specified values.\n",
    "\n",
    "groupby(): Groups the DataFrame by one or more columns and allows applying aggregate functions like sum, mean, count, etc.\n",
    "\n",
    "sort_values(): Sorts the DataFrame by specified columns.\n",
    "\n",
    "merge(): Performs database-style joins on DataFrames based on columns.\n",
    "\n",
    "pivot_table(): Creates a spreadsheet-style pivot table based on DataFrame data."
   ]
  },
  {
   "cell_type": "markdown",
   "id": "5b4c9ef0",
   "metadata": {},
   "source": [
    "# You can use head and tail on above Dataframe"
   ]
  },
  {
   "cell_type": "code",
   "execution_count": 13,
   "id": "f0159359",
   "metadata": {},
   "outputs": [
    {
     "data": {
      "text/html": [
       "<div>\n",
       "<style scoped>\n",
       "    .dataframe tbody tr th:only-of-type {\n",
       "        vertical-align: middle;\n",
       "    }\n",
       "\n",
       "    .dataframe tbody tr th {\n",
       "        vertical-align: top;\n",
       "    }\n",
       "\n",
       "    .dataframe thead th {\n",
       "        text-align: right;\n",
       "    }\n",
       "</style>\n",
       "<table border=\"1\" class=\"dataframe\">\n",
       "  <thead>\n",
       "    <tr style=\"text-align: right;\">\n",
       "      <th></th>\n",
       "      <th>Name</th>\n",
       "      <th>Age</th>\n",
       "      <th>Gender</th>\n",
       "    </tr>\n",
       "  </thead>\n",
       "  <tbody>\n",
       "    <tr>\n",
       "      <th>0</th>\n",
       "      <td>Alice</td>\n",
       "      <td>30</td>\n",
       "      <td>female</td>\n",
       "    </tr>\n",
       "    <tr>\n",
       "      <th>1</th>\n",
       "      <td>Bob</td>\n",
       "      <td>20</td>\n",
       "      <td>Male</td>\n",
       "    </tr>\n",
       "  </tbody>\n",
       "</table>\n",
       "</div>"
      ],
      "text/plain": [
       "    Name  Age  Gender\n",
       "0  Alice   30  female\n",
       "1    Bob   20    Male"
      ]
     },
     "execution_count": 13,
     "metadata": {},
     "output_type": "execute_result"
    }
   ],
   "source": [
    "df.head(2) # to see only 2 rows from top"
   ]
  },
  {
   "cell_type": "code",
   "execution_count": 15,
   "id": "0e72a2ac",
   "metadata": {},
   "outputs": [
    {
     "data": {
      "text/html": [
       "<div>\n",
       "<style scoped>\n",
       "    .dataframe tbody tr th:only-of-type {\n",
       "        vertical-align: middle;\n",
       "    }\n",
       "\n",
       "    .dataframe tbody tr th {\n",
       "        vertical-align: top;\n",
       "    }\n",
       "\n",
       "    .dataframe thead th {\n",
       "        text-align: right;\n",
       "    }\n",
       "</style>\n",
       "<table border=\"1\" class=\"dataframe\">\n",
       "  <thead>\n",
       "    <tr style=\"text-align: right;\">\n",
       "      <th></th>\n",
       "      <th>Name</th>\n",
       "      <th>Age</th>\n",
       "      <th>Gender</th>\n",
       "    </tr>\n",
       "  </thead>\n",
       "  <tbody>\n",
       "    <tr>\n",
       "      <th>1</th>\n",
       "      <td>Bob</td>\n",
       "      <td>20</td>\n",
       "      <td>Male</td>\n",
       "    </tr>\n",
       "    <tr>\n",
       "      <th>2</th>\n",
       "      <td>Charlie</td>\n",
       "      <td>40</td>\n",
       "      <td>Female</td>\n",
       "    </tr>\n",
       "  </tbody>\n",
       "</table>\n",
       "</div>"
      ],
      "text/plain": [
       "      Name  Age  Gender\n",
       "1      Bob   20    Male\n",
       "2  Charlie   40  Female"
      ]
     },
     "execution_count": 15,
     "metadata": {},
     "output_type": "execute_result"
    }
   ],
   "source": [
    "df.tail(2) # last 2 rows"
   ]
  },
  {
   "cell_type": "markdown",
   "id": "7a3b86fe",
   "metadata": {},
   "source": [
    "# Q6. Which of the following is mutable in nature Series, DataFrame, Panel?\n"
   ]
  },
  {
   "cell_type": "markdown",
   "id": "da357b2f",
   "metadata": {},
   "source": [
    "In Pandas, the mutable nature refers to whether an object can be modified after it is created. Among the options provided:\n",
    "\n",
    "1. Series: Mutable\n",
    "2. DataFrame: Mutable\n",
    "3. Panel: Mutable (deprecated since Pandas version 0.25.0)\n",
    "\n",
    "Both Pandas Series and DataFrames are mutable, meaning you can modify their contents, add or remove rows and columns, update values, etc., after they are created. However, it's essential to note that Panels were deprecated in Pandas version 0.25.0 and are no longer recommended for use. Panels were three-dimensional data structures (containing data along with items and major/minor axes) and have been replaced by MultiIndex DataFrames, which provide more flexible and efficient ways to handle complex data structures."
   ]
  },
  {
   "cell_type": "markdown",
   "id": "8848112f",
   "metadata": {},
   "source": [
    "# Q7. Create a DataFrame using multiple Series. Explain with an example.\n"
   ]
  },
  {
   "cell_type": "code",
   "execution_count": 18,
   "id": "c21a9c4b",
   "metadata": {},
   "outputs": [
    {
     "name": "stdout",
     "output_type": "stream",
     "text": [
      "      Name  Age         City\n",
      "0    Alice   20  los angeles\n",
      "1      Bob   30   California\n",
      "2  charlie   40      Florida\n"
     ]
    }
   ],
   "source": [
    "import pandas as pd\n",
    "# create multiple series \n",
    "\n",
    "name_series=pd.Series(['Alice','Bob','charlie'])\n",
    "age_series=pd.Series([20,30,40])\n",
    "cities_series=pd.Series(['los angeles','California','Florida'])\n",
    "\n",
    "data={\n",
    "    'Name':name_series,\n",
    "    'Age':age_series,\n",
    "    'City':cities_series\n",
    "}\n",
    "\n",
    "#create DataFrame\n",
    "df=pd.DataFrame(data)\n",
    "\n",
    "print(df)"
   ]
  },
  {
   "cell_type": "code",
   "execution_count": null,
   "id": "ab27b221",
   "metadata": {},
   "outputs": [],
   "source": []
  }
 ],
 "metadata": {
  "kernelspec": {
   "display_name": "Python 3 (ipykernel)",
   "language": "python",
   "name": "python3"
  },
  "language_info": {
   "codemirror_mode": {
    "name": "ipython",
    "version": 3
   },
   "file_extension": ".py",
   "mimetype": "text/x-python",
   "name": "python",
   "nbconvert_exporter": "python",
   "pygments_lexer": "ipython3",
   "version": "3.10.9"
  }
 },
 "nbformat": 4,
 "nbformat_minor": 5
}
