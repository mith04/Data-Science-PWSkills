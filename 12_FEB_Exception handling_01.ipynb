{
 "cells": [
  {
   "cell_type": "markdown",
   "id": "e6e79f3b",
   "metadata": {},
   "source": [
    "# What isan Exception in python? Write the difference between Exceptions and syntax errors?"
   ]
  },
  {
   "cell_type": "markdown",
   "id": "18ba6411",
   "metadata": {},
   "source": [
    "Ans :An exception is an event that disrupts the normal flow of a program during execution. When a statement or expression in a Python program encounters an error, it raises an exception, which can be caught and handled by the program to prevent it from crashing. Exceptions allow for graceful error handling, making Python code more robust and reliable.\n",
    "\n",
    " differences between exceptions and syntax errors in Python:\n",
    " \n",
    " \n",
    " 1.Exceptions occur during the execution of a program when an error is encountered.\n",
    "They are runtime errors and can be handled using try-except blocks to gracefully recover from the error and continue program execution.\n",
    "\n",
    "** Syntax error :\n",
    "\n",
    "Syntax errors, also known as parsing errors, occur during the parsing of a Python script.\n",
    "They are caused by incorrect syntax in the code, such as missing parentheses, invalid keywords, or improper indentation.\n",
    "Syntax errors prevent the program from running at all and must be fixed before the program can be executed.\n"
   ]
  },
  {
   "cell_type": "markdown",
   "id": "e19b8536",
   "metadata": {},
   "source": [
    "# 2.what happens when an exception is not handled? explain with example ?\n",
    "\n",
    "\n",
    "Ans :if the exception is not caught and handled anywhere along this path, the program will terminate abruptly, and an error message will be displayed to the user indicating the unhandled exception and its type."
   ]
  },
  {
   "cell_type": "code",
   "execution_count": 9,
   "id": "fab6a7d9",
   "metadata": {},
   "outputs": [
    {
     "ename": "ZeroDivisionError",
     "evalue": "division by zero",
     "output_type": "error",
     "traceback": [
      "\u001b[1;31m---------------------------------------------------------------------------\u001b[0m",
      "\u001b[1;31mZeroDivisionError\u001b[0m                         Traceback (most recent call last)",
      "Cell \u001b[1;32mIn[9], line 3\u001b[0m\n\u001b[0;32m      1\u001b[0m \u001b[38;5;28;01mdef\u001b[39;00m \u001b[38;5;21mdivide_number\u001b[39m(a,b):\n\u001b[0;32m      2\u001b[0m     \u001b[38;5;28;01mreturn\u001b[39;00m a\u001b[38;5;241m/\u001b[39mb\n\u001b[1;32m----> 3\u001b[0m result\u001b[38;5;241m=\u001b[39m  \u001b[43mdivide_number\u001b[49m\u001b[43m(\u001b[49m\u001b[38;5;241;43m10\u001b[39;49m\u001b[43m,\u001b[49m\u001b[38;5;241;43m0\u001b[39;49m\u001b[43m)\u001b[49m\n\u001b[0;32m      4\u001b[0m \u001b[38;5;28mprint\u001b[39m(\u001b[38;5;124m'\u001b[39m\u001b[38;5;124mresult\u001b[39m\u001b[38;5;124m'\u001b[39m,result )\n\u001b[0;32m      6\u001b[0m \u001b[38;5;66;03m## if will run this code will get exception\u001b[39;00m\n",
      "Cell \u001b[1;32mIn[9], line 2\u001b[0m, in \u001b[0;36mdivide_number\u001b[1;34m(a, b)\u001b[0m\n\u001b[0;32m      1\u001b[0m \u001b[38;5;28;01mdef\u001b[39;00m \u001b[38;5;21mdivide_number\u001b[39m(a,b):\n\u001b[1;32m----> 2\u001b[0m     \u001b[38;5;28;01mreturn\u001b[39;00m \u001b[43ma\u001b[49m\u001b[38;5;241;43m/\u001b[39;49m\u001b[43mb\u001b[49m\n",
      "\u001b[1;31mZeroDivisionError\u001b[0m: division by zero"
     ]
    }
   ],
   "source": [
    "def divide_number(a,b):\n",
    "    return a/b\n",
    "result=  divide_number(10,0)\n",
    "print('result',result )\n",
    "\n",
    "## if will run this code will get exception\n",
    "\n",
    "'''---------------------------------------------------------------------------\n",
    "ZeroDivisionError                         Traceback (most recent call last)\n",
    "Cell In[1], line 3\n",
    "      1 def divide_number(a,b):\n",
    "      2     return a/b\n",
    "----> 3 result=  divide_number(10,0)\n",
    "      4 print('result',result )\n",
    "\n",
    "Cell In[1], line 2, in divide_number(a, b)\n",
    "      1 def divide_number(a,b):\n",
    "----> 2     return a/b\n",
    "\n",
    "ZeroDivisionError: division by zero'''"
   ]
  },
  {
   "cell_type": "code",
   "execution_count": 10,
   "id": "c9990d98",
   "metadata": {},
   "outputs": [
    {
     "name": "stdout",
     "output_type": "stream",
     "text": [
      "Error: Division by zero is not allowed!\n"
     ]
    }
   ],
   "source": [
    "#we have to use Try and except block to handle exception \n",
    "\n",
    "try:\n",
    "    # Code that may raise an exception\n",
    "    result = 10 / 0  # Division by zero raises ZeroDivisionError\n",
    "except ZeroDivisionError:\n",
    "    # Handle the specific exception\n",
    "    print(\"Error: Division by zero is not allowed!\")\n"
   ]
  },
  {
   "cell_type": "markdown",
   "id": "4da34974",
   "metadata": {},
   "source": [
    "# 3.which python statements are used to catch and handle exceptions? explain with example\n",
    "\n",
    "Try and except statements are used to catch and handle exceptions in Python. Statements that can raise exceptions are kept inside the try clause and the statements that handle the exception are written inside except clause.\n",
    "\n"
   ]
  },
  {
   "cell_type": "code",
   "execution_count": 12,
   "id": "59f43a19",
   "metadata": {},
   "outputs": [
    {
     "name": "stdout",
     "output_type": "stream",
     "text": [
      "Enter a number: 0\n",
      "Error: Division by zero is not allowed.\n"
     ]
    }
   ],
   "source": [
    "try:\n",
    "    number = int(input(\"Enter a number: \"))\n",
    "    result = 10 / number  # Potential ZeroDivisionError or ValueError\n",
    "    print(\"Result:\", result)\n",
    "except ValueError:\n",
    "    print(\"Error: Please enter a valid integer.\")\n",
    "except ZeroDivisionError:\n",
    "    print(\"Error: Division by zero is not allowed.\")\n"
   ]
  },
  {
   "cell_type": "markdown",
   "id": "374ce178",
   "metadata": {},
   "source": [
    "# 4.explain with example \n",
    "\n",
    "a. try and else\n",
    "\n",
    "b. finally\n",
    "\n",
    "c.raise\n",
    "\n",
    "TRY AND ELSE :\n",
    "\n",
    "The else block in a try-except statement is executed only if no exception occurs in the try block. It's typically used to place code that should run when no exceptions are raised. Here's an example:"
   ]
  },
  {
   "cell_type": "code",
   "execution_count": 15,
   "id": "e3642c30",
   "metadata": {},
   "outputs": [
    {
     "name": "stdout",
     "output_type": "stream",
     "text": [
      "No Error thats why it's executed \n"
     ]
    }
   ],
   "source": [
    "try:\n",
    "    # Code that may raise an exception\n",
    "    result = 10 / 5  # Division by zero raises ZeroDivisionError\n",
    "except ZeroDivisionError:\n",
    "    # Handle the specific exception\n",
    "    print(\"Error: Division by zero is not allowed!\")\n",
    "else:\n",
    "    print(\"No Error thats why it's executed \")"
   ]
  },
  {
   "cell_type": "markdown",
   "id": "7e8de1e0",
   "metadata": {},
   "source": [
    "# Finally \n",
    "\n",
    "The finally block in Python is used to execute cleanup code, such as closing files or releasing resources, regardless of whether an exception was raised or not"
   ]
  },
  {
   "cell_type": "code",
   "execution_count": 17,
   "id": "19f939b5",
   "metadata": {},
   "outputs": [
    {
     "name": "stdout",
     "output_type": "stream",
     "text": [
      "Error: Division by zero is not allowed!\n",
      "Finally Block will be handled anyhow \n"
     ]
    }
   ],
   "source": [
    "#Example :\n",
    "\n",
    "try:\n",
    "    # Code that may raise an exception\n",
    "    result = 10 / 0  # Division by zero raises ZeroDivisionError\n",
    "except ZeroDivisionError:\n",
    "    # Handle the specific exception\n",
    "    print(\"Error: Division by zero is not allowed!\")\n",
    "finally:\n",
    "    print(\"Finally Block will be handled anyhow \")"
   ]
  },
  {
   "cell_type": "markdown",
   "id": "6c33b493",
   "metadata": {},
   "source": [
    "# Raise \n",
    "\n",
    "The raise statement in Python is used to raise an exception manually.\n",
    "\n"
   ]
  },
  {
   "cell_type": "code",
   "execution_count": 20,
   "id": "1ecfa11c",
   "metadata": {},
   "outputs": [
    {
     "name": "stdout",
     "output_type": "stream",
     "text": [
      "Enter your age: -2\n",
      "Error: Age must be a non-negative integer.\n"
     ]
    }
   ],
   "source": [
    "def validate_age(age):\n",
    "    if age < 0:\n",
    "        raise ValueError(\"Age must be a non-negative integer.\")\n",
    "    return age\n",
    "\n",
    "try:\n",
    "    user_age = int(input(\"Enter your age: \"))\n",
    "    validated_age = validate_age(user_age)\n",
    "    print(f\"Your age is {validated_age}.\")\n",
    "except ValueError as e:\n",
    "    print(f\"Error: {e}\")\n"
   ]
  },
  {
   "cell_type": "markdown",
   "id": "f4db4648",
   "metadata": {},
   "source": [
    "# what are the custome  exceptions in python? why do we need custom exception? explain with example"
   ]
  },
  {
   "cell_type": "markdown",
   "id": "69e75846",
   "metadata": {},
   "source": [
    "\n",
    "Custom exceptions in Python are user-defined exception classes that inherit from the base Exception class or its subclasses. They are created to handle specific error conditions or situations that are not covered by the built-in exceptions provided by Python.\n",
    "\n",
    "\n",
    "And \n",
    "\n",
    "we need this because it Make our  code much more readable and robust, and reduce the amount of code you write later to try and figure out what exactly went wrong.\n"
   ]
  },
  {
   "cell_type": "code",
   "execution_count": 1,
   "id": "cf9a144d",
   "metadata": {},
   "outputs": [
    {
     "name": "stdout",
     "output_type": "stream",
     "text": [
      "Error: Invalid input value: abc\n",
      "Please provide a valid integer input.\n"
     ]
    }
   ],
   "source": [
    "class InvalidInputError(Exception):\n",
    "    \"\"\"Custom exception for handling invalid input.\"\"\"\n",
    "    def __init__(self, input_value):\n",
    "        super().__init__(f\"Invalid input value: {input_value}\")\n",
    "        self.input_value = input_value\n",
    "\n",
    "def process_input(input_value):\n",
    "    if not isinstance(input_value, int):\n",
    "        raise InvalidInputError(input_value)\n",
    "    # Process the input\n",
    "\n",
    "try:\n",
    "    user_input = 'abc'\n",
    "    process_input(user_input)\n",
    "except InvalidInputError as e:\n",
    "    print(f\"Error: {e}\")\n",
    "    print(\"Please provide a valid integer input.\")\n"
   ]
  },
  {
   "cell_type": "markdown",
   "id": "cdfe0bd2",
   "metadata": {},
   "source": [
    "# create a Custom exception class .use this class to handle an exception\n"
   ]
  },
  {
   "cell_type": "code",
   "execution_count": 10,
   "id": "48b2878f",
   "metadata": {},
   "outputs": [
    {
     "name": "stdout",
     "output_type": "stream",
     "text": [
      "Error: Division by zero is not allowed.\n"
     ]
    }
   ],
   "source": [
    "class CustomException(Exception):\n",
    "    def __init__(self, message):\n",
    "        self.message = message\n",
    "        super().__init__(self.message)\n",
    "\n",
    "def divide(a, b):\n",
    "    if b == 0:\n",
    "        raise CustomException(\"Division by zero is not allowed.\")\n",
    "    return a / b\n",
    "\n",
    "try:\n",
    "    result = divide(10, 0)\n",
    "except CustomException as e:\n",
    "    print(\"Error:\", e.message)\n",
    "else:\n",
    "    print(\"Result of division:\", result)\n"
   ]
  },
  {
   "cell_type": "code",
   "execution_count": null,
   "id": "ef4eeedf",
   "metadata": {},
   "outputs": [],
   "source": []
  }
 ],
 "metadata": {
  "kernelspec": {
   "display_name": "Python 3 (ipykernel)",
   "language": "python",
   "name": "python3"
  },
  "language_info": {
   "codemirror_mode": {
    "name": "ipython",
    "version": 3
   },
   "file_extension": ".py",
   "mimetype": "text/x-python",
   "name": "python",
   "nbconvert_exporter": "python",
   "pygments_lexer": "ipython3",
   "version": "3.10.9"
  }
 },
 "nbformat": 4,
 "nbformat_minor": 5
}
