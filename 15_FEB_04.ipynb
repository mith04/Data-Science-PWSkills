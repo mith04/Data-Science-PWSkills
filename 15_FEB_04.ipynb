{
 "cells": [
  {
   "cell_type": "markdown",
   "id": "00fa63a6",
   "metadata": {},
   "source": [
    "# Q1. What is multiprocessing in python? Why is it useful?"
   ]
  },
  {
   "cell_type": "markdown",
   "id": "79590288",
   "metadata": {},
   "source": [
    "Multiprocessing refers to the ability of a system to support more than one processor at the same time. Applications in a multiprocessing system are broken to smaller routines that run independently. The operating system allocates these threads to the processors improving performance of the system.\n",
    "\n",
    "Advantages of multiprocessing :\n",
    "\n",
    "Utilizes multiple CPU cores to execute tasks concurrently, increasing efficiency.\n",
    "Better for CPU-bound Tasks.\n",
    "Each process has its own memory space, reducing potential memory conflicts."
   ]
  },
  {
   "cell_type": "markdown",
   "id": "10796898",
   "metadata": {},
   "source": [
    "# 2. What are the differences between multiprocessing and multithreading?"
   ]
  },
  {
   "cell_type": "markdown",
   "id": "54cc4101",
   "metadata": {},
   "source": [
    "Multithreading refers to the ability of a processor to execute multiple threads concurrently, where each thread runs a process. \n",
    "\n",
    "Multiprocessing refers to the ability of a system to run multiple processors in parallel, where each processor can run one or more threads."
   ]
  },
  {
   "cell_type": "markdown",
   "id": "25e8d361",
   "metadata": {},
   "source": [
    "# 3. Write a python code to create a process using the multiprocessing module.\n"
   ]
  },
  {
   "cell_type": "code",
   "execution_count": 1,
   "id": "d0ae9339",
   "metadata": {},
   "outputs": [
    {
     "name": "stdout",
     "output_type": "stream",
     "text": [
      "Main process finished\n"
     ]
    }
   ],
   "source": [
    "import multiprocessing\n",
    "import time\n",
    "\n",
    "def worker_func(name):\n",
    "    print(f\"Worker {name} starting\")\n",
    "    time.sleep(2)\n",
    "    print(f\"Worker {name} finished\")\n",
    "\n",
    "if __name__ == \"__main__\":\n",
    "    # Create a process\n",
    "    process = multiprocessing.Process(target=worker_func, args=(\"Process-1\",))\n",
    "\n",
    "    # Start the process\n",
    "    process.start()\n",
    "\n",
    "    # Wait for the process to finish\n",
    "    process.join()\n",
    "\n",
    "    print(\"Main process finished\")\n"
   ]
  },
  {
   "cell_type": "markdown",
   "id": "fd1f7245",
   "metadata": {},
   "source": [
    "# 4. What is a multiprocessing pool in python? Why is it used?\n",
    "\n",
    "\n",
    "A multiprocessing pool in Python refers to a collection of worker processes that can execute tasks concurrently, allowing for parallelism and efficient utilization of multiple CPU cores. It is part of the multiprocessing module in Python, which provides support for creating and managing processes to achieve parallelism.\n",
    "\n",
    "And it is  is used to harness the power of multiple CPU cores for parallel execution, leading to faster processing of tasks and improved performance in applications that require concurrent processing of data or computational tasks.\n",
    "\n",
    "\n",
    "\n",
    "\n",
    "\n",
    "\n"
   ]
  },
  {
   "cell_type": "markdown",
   "id": "87d15cfd",
   "metadata": {},
   "source": [
    "# Q5. How can we create a pool of worker processes in python using the multiprocessing module?\n"
   ]
  },
  {
   "cell_type": "code",
   "execution_count": null,
   "id": "9194bd5a",
   "metadata": {},
   "outputs": [],
   "source": [
    "# Here how we create pool using python \n",
    "\n",
    "#step 1 : Importing multiprocessing module \n",
    "\n",
    "import multiprocessing\n",
    "\n",
    "#step 2: Create a Pool of Worker Processes:\n",
    "\n",
    "pool=multiprocessing.Pool(processes=4)\n",
    "\n",
    "#step 3:Distribute Tasks to the Pool:\n",
    "\n",
    "def square(x):\n",
    "    return x ** 2\n",
    "\n",
    "numbers = [1, 2, 3, 4, 5]\n",
    "result = pool.map(square, numbers)\n",
    "\n",
    "#step 4:  Retrive result \n",
    "\n",
    "print(result) \n",
    "\n",
    "# step 5 :close the pool \n",
    "\n",
    "pool.close()\n",
    "pool.join()  # Wait for all processes to finish\n"
   ]
  },
  {
   "cell_type": "markdown",
   "id": "d235861e",
   "metadata": {},
   "source": [
    "# Write a python program to create 4 processes, each process should print a different number using the multiprocessing module in python."
   ]
  },
  {
   "cell_type": "code",
   "execution_count": null,
   "id": "53f79137",
   "metadata": {},
   "outputs": [],
   "source": [
    "import multiprocessing\n",
    "\n",
    "def print_number(number):\n",
    "    print(f\"Process {number}: {number}\")\n",
    "\n",
    "if __name__ == \"__main__\":\n",
    "    processes = []\n",
    "    for num in range(1, 5):\n",
    "        process = multiprocessing.Process(target=print_number, args=(num,))\n",
    "        processes.append(process)\n",
    "        process.start()\n",
    "\n",
    "    for process in processes:\n",
    "        process.join()\n"
   ]
  },
  {
   "cell_type": "code",
   "execution_count": null,
   "id": "d0d97ac1",
   "metadata": {},
   "outputs": [],
   "source": []
  }
 ],
 "metadata": {
  "kernelspec": {
   "display_name": "Python 3 (ipykernel)",
   "language": "python",
   "name": "python3"
  },
  "language_info": {
   "codemirror_mode": {
    "name": "ipython",
    "version": 3
   },
   "file_extension": ".py",
   "mimetype": "text/x-python",
   "name": "python",
   "nbconvert_exporter": "python",
   "pygments_lexer": "ipython3",
   "version": "3.10.9"
  }
 },
 "nbformat": 4,
 "nbformat_minor": 5
}
