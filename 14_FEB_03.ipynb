{
 "cells": [
  {
   "cell_type": "markdown",
   "id": "cd4dd5f6",
   "metadata": {},
   "source": [
    "# 1.what is multithreading in python? why is it used? Name the module used to handle threads in python"
   ]
  },
  {
   "cell_type": "markdown",
   "id": "1c40fedb",
   "metadata": {},
   "source": [
    "Multithreading is defined as the ability of a processor to execute multiple threads concurrently. In a simple, single-core CPU, it is achieved using frequent switching between threads\n",
    "\n",
    "\n",
    "** Purpose to use Multithreading \n",
    "\n",
    "Multithreading is a programming concept in which the application can create a small unit of tasks to execute in parallel. If you are working on a computer, it runs multiple applications and allocates processing power to them. A simple program runs in sequence and the code statements execute one by one.\n",
    "\n",
    "** The Module is used to handle threads in python is Threading . \n",
    "It provides classes and functions for creating, managing, and synchronizing threads within a Python program.\n"
   ]
  },
  {
   "cell_type": "markdown",
   "id": "12a80751",
   "metadata": {},
   "source": [
    "# 2.why threading module used? write the use of the following functions:\n",
    "\n",
    "1. activeCount()\n",
    "2. currentThread()\n",
    "3. enumerate()\n",
    " \n",
    " \n",
    "The threading module in Python is used for concurrent programming, which allows you to run multiple threads (smaller units of a process) simultaneously within the same program. Threads are independent sequences of instructions that can be executed concurrently, providing better utilization of resources and improving the responsiveness of applications\n",
    "\n",
    "1. activeCount():\n",
    "activeCount(): This function returns the number of Thread objects that are currently active (alive) in the current thread's ThreadGroup. An active thread is one that has been started but has not yet been terminated. activeCount(): This function returns the number of Thread objects that are currently active (alive) in the current thread's ThreadGroup. An active thread is one that has been started but has not yet been terminated. \n",
    "\n",
    "\n",
    "2. CurrentThread() : This function returns the current Thread object representing the thread from which it is called. It allows you to obtain information about the currently executing thread, such as its name, identification number, and other properties. \n",
    "\n",
    "3.enumerate(): This function returns a list of all active Thread objects in the current thread's ThreadGroup. "
   ]
  },
  {
   "cell_type": "markdown",
   "id": "91e70b83",
   "metadata": {},
   "source": [
    "# 3. Explain the following functions\n",
    "1. run()\n",
    "2.start()\n",
    "3.join()\n",
    "4.isAlive()\n",
    "\n",
    "\n",
    "1. The .run() method executes any target function belonging to a given thread object that is now active. It normally executes in the background after the .start() method is invoked.\n",
    "\n",
    "\n",
    "2.The .start() method activates and prompts a thread object to be run.\n",
    "\n",
    "3.join(): This method is used to wait for a thread to complete its execution before proceeding with the rest of the program. When you call join() on a thread object, the program will block and wait until that thread has finished running its run() method. \n",
    "\n",
    "4.isAlive(): This method is used to check whether a thread is currently active (alive) or has completed its execution. It returns True if the thread is still running or False if it has finished executing its run() method."
   ]
  },
  {
   "cell_type": "markdown",
   "id": "9b3ca19e",
   "metadata": {},
   "source": [
    "# 4.  write a python program to create two threads. Thread one must print the list of squares and thread two must print the list of cubes\n"
   ]
  },
  {
   "cell_type": "code",
   "execution_count": 6,
   "id": "3dafacb8",
   "metadata": {},
   "outputs": [
    {
     "name": "stdout",
     "output_type": "stream",
     "text": [
      "list of the Squares: [1, 4, 9, 16, 25]\n",
      "List of Cube [1, 8, 27, 64, 125]\n"
     ]
    }
   ],
   "source": [
    "import threading\n",
    "\n",
    "def print_square(numbers):\n",
    "    square=[num**2 for num in numbers]\n",
    "    print('list of the Squares:', square)\n",
    "    \n",
    "    \n",
    "def print_cubes(numbers):\n",
    "    cube=[num**3 for num in numbers]\n",
    "    print('List of Cube',cube)\n",
    "    \n",
    "if __name__ ==\"__main__\":\n",
    "    numbers=[1,2,3,4,5]\n",
    "\n",
    "thread1=threading.Thread(target=print_square, args=(numbers,))\n",
    "thread2=threading.Thread(target=print_cubes,args=(numbers,))\n",
    "\n",
    "thread1.start()\n",
    "thread2.start()\n",
    "\n",
    "thread1.join()\n",
    "thread2.join()"
   ]
  },
  {
   "cell_type": "markdown",
   "id": "a8f19e9a",
   "metadata": {},
   "source": [
    "# 5. State advantages and disadvantages of multithreading\n",
    "\n",
    "Advantages of Multithreading:\n",
    "\n",
    "1. **Concurrency:** Multithreading allows concurrent execution of multiple tasks, improving overall performance and responsiveness.\n",
    "\n",
    "2. **Resource Sharing:** Threads can share resources, reducing memory consumption and facilitating efficient communication.\n",
    "\n",
    "3. **Improved Responsiveness:** Multithreading keeps applications responsive by running time-consuming tasks in separate threads.\n",
    "\n",
    "4. **Efficient CPU Utilization:** For CPU-bound tasks, multithreading utilizes multiple cores, enhancing performance.\n",
    "\n",
    "5. **Simplified Programming:** Threading breaks down complex tasks into smaller units, leading to cleaner and more manageable code.\n",
    "\n",
    "Disadvantages of Multithreading:\n",
    "\n",
    "1. **Complexity:** Multithreading introduces complexity due to synchronization and potential concurrency issues.\n",
    "\n",
    "2. **Resource Contentions:** Concurrent access to shared resources can lead to contentions and performance bottlenecks.\n",
    "\n",
    "3. **Overhead:** Thread creation, management, and context switching introduce overhead, impacting performance.\n",
    "\n",
    "4. **Difficulty in Debugging:** Debugging multithreaded programs can be challenging due to race conditions and thread interleavings.\n",
    "\n",
    "5. **Limited Parallelism (in some cases):** In certain environments like Python with GIL, true parallelism for CPU-bound tasks is limited, reducing scalability benefits."
   ]
  },
  {
   "cell_type": "markdown",
   "id": "949207a0",
   "metadata": {},
   "source": [
    "#  6. Explain deadlocks and race conditions.\n",
    "\n",
    "Deadlocks:\n",
    " A deadlock occurs when two or more threads or processes are waiting indefinitely for resources held by each other, preventing any of them from progressing.\n",
    " \n",
    " Scenario: Consider two threads, Thread A and Thread B, both needing access to two resources, Resource X and Resource Y. If Thread A locks Resource X and waits for Resource Y while Thread B locks Resource Y and waits for Resource X, a deadlock situation arises.\n",
    "\n",
    "\n",
    "Race Conditions:\n",
    "\n",
    "A race condition occurs when the behavior of a program depends on the timing or sequence of uncontrollable events, such as thread scheduling or resource availability.\n",
    "\n",
    "\n",
    "\n",
    "Scenario: Consider two threads accessing and modifying a shared variable concurrently without proper synchronization. Depending on the order of execution and timing, the final value of the shared variable may vary unpredictably.\n",
    "\n"
   ]
  },
  {
   "cell_type": "code",
   "execution_count": null,
   "id": "e9b5cc76",
   "metadata": {},
   "outputs": [],
   "source": []
  }
 ],
 "metadata": {
  "kernelspec": {
   "display_name": "Python 3 (ipykernel)",
   "language": "python",
   "name": "python3"
  },
  "language_info": {
   "codemirror_mode": {
    "name": "ipython",
    "version": 3
   },
   "file_extension": ".py",
   "mimetype": "text/x-python",
   "name": "python",
   "nbconvert_exporter": "python",
   "pygments_lexer": "ipython3",
   "version": "3.10.9"
  }
 },
 "nbformat": 4,
 "nbformat_minor": 5
}
