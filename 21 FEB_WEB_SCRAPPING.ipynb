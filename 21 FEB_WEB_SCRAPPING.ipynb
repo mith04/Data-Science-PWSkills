{
 "cells": [
  {
   "cell_type": "markdown",
   "id": "d4995eda",
   "metadata": {},
   "source": [
    "# Q1. What is Web Scraping? Why is it Used? Give three areas where Web Scraping is used to get data.\n"
   ]
  },
  {
   "cell_type": "markdown",
   "id": "6a2f9e5a",
   "metadata": {},
   "source": [
    "Web scraping refers to the process of extracting data from websites. It involves using automated tools or scripts to gather information from web pages, usually in a structured format like HTML, and then storing or analyzing that data for various purposes.\n",
    "\n",
    "Web scraping is used for several reasons:\n",
    "\n",
    "1. Data Collection\n",
    "2. Market Research and Analysis\n",
    "\n",
    "3. Business Intelligence:** Web scraping is valuable for gathering data that can inform business decisions. \n",
    "\n",
    "Three specific areas where web scraping is commonly used to gather data are:\n",
    "\n",
    "1. E-commerce\n",
    "2. Finance and Investment\n",
    "3. Research and Academic Studies"
   ]
  },
  {
   "cell_type": "markdown",
   "id": "062609ff",
   "metadata": {},
   "source": [
    "# Q2. What are the different methods used for Web Scraping?\n"
   ]
  },
  {
   "cell_type": "markdown",
   "id": "9ca8ac1b",
   "metadata": {},
   "source": [
    "There are several methods used for web scraping, each with its own advantages and limitations. Here are some of the common methods used for web scraping:\n",
    "\n",
    "1. Using Web Scraping Libraries and Frameworks\n",
    "2. Using Web Scraping Tools and Software\n",
    "3. Using APIs (Application Programming Interfaces)\n",
    "4. Manual Scraping\n",
    "5. Browser Extensions\n",
    "6. Proxy Servers and IP Rotation\n",
    "\n",
    "7. Headless Browsers\n",
    "8. Custom Scripts and Code"
   ]
  },
  {
   "cell_type": "markdown",
   "id": "e5d5d4c5",
   "metadata": {},
   "source": [
    "# Q3. What is Beautiful Soup? Why is it used?\n"
   ]
  },
  {
   "cell_type": "markdown",
   "id": "bed1ecde",
   "metadata": {},
   "source": [
    "Beautiful Soup is a Python library used for parsing HTML and XML documents. It provides tools for navigating and manipulating the parsed data, making it easier to extract specific information from web pages. Beautiful Soup is particularly popular for web scraping tasks due to its simplicity, flexibility, and robust parsing capabilities.\n",
    "\n",
    " why it is used:\n",
    "\n",
    "1. Parsing HTML and XML\n",
    "2. Easy Navigation\n",
    "\n",
    "3. Data Extraction\n",
    "4. Robustness\n",
    "5. Integration with Web Scraping\n",
    "6. Compatibility\n",
    "7. Open Source and Active Development"
   ]
  },
  {
   "cell_type": "markdown",
   "id": "daebbb05",
   "metadata": {},
   "source": [
    "# Q4. Why is flask used in this Web Scraping project?\n"
   ]
  },
  {
   "cell_type": "markdown",
   "id": "f92b193e",
   "metadata": {},
   "source": [
    "Flask can be used to develop web scraping applications that collect data from websites or APIs. Data scientists often need to gather data from various sources, and Flask provides the necessary tools for building web scrapers that can automate this process\n",
    "\n",
    "Flask is commonly used in web scraping projects for several reasons:\n",
    "\n",
    "1. Web Application Development \n",
    "2. API integration \n",
    "3. DATA Presentation \n",
    "4. Scalability\n",
    "5. integration with Libraries \n",
    "6. Customization "
   ]
  },
  {
   "cell_type": "markdown",
   "id": "0d992312",
   "metadata": {},
   "source": [
    " # Q5. Write the names of AWS services used in this project. Also, explain the use of each service.\n",
    " \n",
    "**Ans** :\n",
    "AWS Codepipeline and AWS Elastic BeanStalk used in this project \n",
    "\n",
    "1. **AWS CodePipeline:**\n",
    "   - **Purpose:** AWS CodePipeline is a continuous integration and continuous delivery (CI/CD) service that automates the build, test, and deployment phases of your application. It allows you to create automated workflows (pipelines) for managing code changes and releasing updates.\n",
    " \n",
    "\n",
    "2. **AWS Elastic Beanstalk:**\n",
    "   - **Purpose:** AWS Elastic Beanstalk is a platform as a service (PaaS) offering that simplifies the deployment and management of web applications and services. It automatically handles the provisioning of resources (e.g., EC2 instances, load balancers) based on your application's requirements."
   ]
  },
  {
   "cell_type": "code",
   "execution_count": null,
   "id": "b327c4b4",
   "metadata": {},
   "outputs": [],
   "source": []
  }
 ],
 "metadata": {
  "kernelspec": {
   "display_name": "Python 3 (ipykernel)",
   "language": "python",
   "name": "python3"
  },
  "language_info": {
   "codemirror_mode": {
    "name": "ipython",
    "version": 3
   },
   "file_extension": ".py",
   "mimetype": "text/x-python",
   "name": "python",
   "nbconvert_exporter": "python",
   "pygments_lexer": "ipython3",
   "version": "3.10.9"
  }
 },
 "nbformat": 4,
 "nbformat_minor": 5
}
