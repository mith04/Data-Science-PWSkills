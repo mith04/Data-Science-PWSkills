{
 "cells": [
  {
   "cell_type": "markdown",
   "id": "f23bcb0f",
   "metadata": {},
   "source": [
    "Q1. Variables \n"
   ]
  },
  {
   "cell_type": "code",
   "execution_count": 1,
   "id": "a898c7cb",
   "metadata": {},
   "outputs": [],
   "source": [
    "a=\"Python\" #string \n"
   ]
  },
  {
   "cell_type": "code",
   "execution_count": 2,
   "id": "6d5f2678",
   "metadata": {},
   "outputs": [],
   "source": [
    "theLIST=[\"PwSkills\",\"python\",\"career Transition\",\"Data Analyst\"]"
   ]
  },
  {
   "cell_type": "code",
   "execution_count": 3,
   "id": "315fd51a",
   "metadata": {},
   "outputs": [],
   "source": [
    "b=8.69"
   ]
  },
  {
   "cell_type": "code",
   "execution_count": 4,
   "id": "8da1455a",
   "metadata": {},
   "outputs": [],
   "source": [
    "theTuple=(\"noida\",\"delhi\",\"NCR\")"
   ]
  },
  {
   "cell_type": "markdown",
   "id": "80352cc2",
   "metadata": {},
   "source": [
    "Q2. Given are some following variables containing data"
   ]
  },
  {
   "cell_type": "code",
   "execution_count": 5,
   "id": "403a5a6e",
   "metadata": {},
   "outputs": [],
   "source": [
    "var1=''"
   ]
  },
  {
   "cell_type": "code",
   "execution_count": 6,
   "id": "3b756f12",
   "metadata": {},
   "outputs": [
    {
     "data": {
      "text/plain": [
       "str"
      ]
     },
     "execution_count": 6,
     "metadata": {},
     "output_type": "execute_result"
    }
   ],
   "source": [
    "type(var1)"
   ]
  },
  {
   "cell_type": "code",
   "execution_count": 7,
   "id": "5a086706",
   "metadata": {},
   "outputs": [],
   "source": [
    "var2='[DS,ML,Python]'"
   ]
  },
  {
   "cell_type": "code",
   "execution_count": 8,
   "id": "ee640cd8",
   "metadata": {},
   "outputs": [
    {
     "data": {
      "text/plain": [
       "str"
      ]
     },
     "execution_count": 8,
     "metadata": {},
     "output_type": "execute_result"
    }
   ],
   "source": [
    "type(var2)"
   ]
  },
  {
   "cell_type": "code",
   "execution_count": 9,
   "id": "333ca55f",
   "metadata": {},
   "outputs": [
    {
     "data": {
      "text/plain": [
       "list"
      ]
     },
     "execution_count": 9,
     "metadata": {},
     "output_type": "execute_result"
    }
   ],
   "source": [
    "var3=['DS','ML','Python']\n",
    "type(var3)"
   ]
  },
  {
   "cell_type": "code",
   "execution_count": 10,
   "id": "36fc6600",
   "metadata": {},
   "outputs": [
    {
     "data": {
      "text/plain": [
       "float"
      ]
     },
     "execution_count": 10,
     "metadata": {},
     "output_type": "execute_result"
    }
   ],
   "source": [
    "var=1.\n",
    "type(var)"
   ]
  },
  {
   "cell_type": "markdown",
   "id": "8cf3fa09",
   "metadata": {},
   "source": [
    "Q3. Explain the use of the following operators using an example:\n"
   ]
  },
  {
   "cell_type": "code",
   "execution_count": 11,
   "id": "da16e1f1",
   "metadata": {},
   "outputs": [
    {
     "name": "stdout",
     "output_type": "stream",
     "text": [
      "5.0\n"
     ]
    }
   ],
   "source": [
    "# '/' is used for division \n",
    "x=10\n",
    "y=2\n",
    "z=x/y\n",
    "print(z)"
   ]
  },
  {
   "cell_type": "code",
   "execution_count": 12,
   "id": "dd5bed69",
   "metadata": {},
   "outputs": [
    {
     "name": "stdout",
     "output_type": "stream",
     "text": [
      "1\n"
     ]
    }
   ],
   "source": [
    "# '%' is used for Modulus \n",
    "x=9\n",
    "y=2\n",
    "z=x%y\n",
    "print(z)"
   ]
  },
  {
   "cell_type": "code",
   "execution_count": 13,
   "id": "c1067d49",
   "metadata": {},
   "outputs": [
    {
     "name": "stdout",
     "output_type": "stream",
     "text": [
      "8\n"
     ]
    }
   ],
   "source": [
    "# '//' is used for Floor division\n",
    "x=17\n",
    "y=2\n",
    "z=x//y\n",
    "print(z)"
   ]
  },
  {
   "cell_type": "code",
   "execution_count": 14,
   "id": "76341cf0",
   "metadata": {},
   "outputs": [
    {
     "name": "stdout",
     "output_type": "stream",
     "text": [
      "289\n"
     ]
    }
   ],
   "source": [
    "# '**' is used for Exponential\n",
    "x=17\n",
    "y=2\n",
    "z=x**y\n",
    "print(z)"
   ]
  },
  {
   "cell_type": "markdown",
   "id": "1798d9c5",
   "metadata": {},
   "source": [
    "Q4.Create a list of length 10 of your choice containing multiple types of data. Using for loop print the \n",
    "element and its data type"
   ]
  },
  {
   "cell_type": "code",
   "execution_count": 15,
   "id": "8681dd4b",
   "metadata": {},
   "outputs": [
    {
     "name": "stdout",
     "output_type": "stream",
     "text": [
      "Hello!!, World <class 'str'>\n",
      "150 <class 'int'>\n",
      "('apple', 'Banana', 'Grapes') <class 'tuple'>\n",
      "190.99 <class 'float'>\n",
      "True <class 'bool'>\n"
     ]
    }
   ],
   "source": [
    "my_List=[\"Hello!!, World\",150,(\"apple\",\"Banana\",\"Grapes\"),190.99,True]\n",
    "for item in my_List:\n",
    "    print(item,type(item))"
   ]
  },
  {
   "cell_type": "markdown",
   "id": "bba8f6cf",
   "metadata": {},
   "source": [
    "Q5. Using a while loop, verify if the number A is purely divisible by number B and if so then how many \n",
    "times it can be divisible\n"
   ]
  },
  {
   "cell_type": "code",
   "execution_count": 16,
   "id": "e4e90042",
   "metadata": {},
   "outputs": [
    {
     "name": "stdout",
     "output_type": "stream",
     "text": [
      "Enter number A: 10\n",
      "Enter number B: 5\n",
      "10 is  divisible by 5.\n",
      "It can be divided 1 times.\n"
     ]
    }
   ],
   "source": [
    "def count_divisions(a, b):\n",
    "    count = 0\n",
    "    while a % b == 0:\n",
    "        a //= b\n",
    "        count += 1\n",
    "    return count\n",
    "\n",
    "# Input numbers taken by users \n",
    "number_a = int(input(\"Enter number A: \"))\n",
    "number_b = int(input(\"Enter number B: \"))\n",
    "\n",
    "divisions = count_divisions(number_a, number_b)\n",
    "\n",
    "if divisions > 0:\n",
    "    print(f\"{number_a} is  divisible by {number_b}.\")\n",
    "    print(f\"It can be divided {divisions} times.\")\n",
    "else:\n",
    "    print(f\"{number_a} is not divisible by {number_b}.\")\n",
    "\n"
   ]
  },
  {
   "cell_type": "markdown",
   "id": "dc506ddc",
   "metadata": {},
   "source": [
    "Q6. Create a list containing 25 int type data. Using for loop and if-else condition print if the element is \n",
    "divisible by 3 or not"
   ]
  },
  {
   "cell_type": "code",
   "execution_count": 17,
   "id": "2de878e3",
   "metadata": {
    "scrolled": true
   },
   "outputs": [
    {
     "name": "stdout",
     "output_type": "stream",
     "text": [
      "9 is divisible by 3\n",
      "27 is divisible by 3\n",
      "21 is divisible by 3\n",
      "45 is divisible by 3\n",
      "52 is not divisible by 3\n",
      "77 is not divisible by 3\n",
      "68 is not divisible by 3\n",
      "72 is divisible by 3\n",
      "88 is not divisible by 3\n",
      "83 is not divisible by 3\n",
      "91 is not divisible by 3\n",
      "92 is not divisible by 3\n",
      "99 is divisible by 3\n",
      "78 is divisible by 3\n",
      "62 is not divisible by 3\n",
      "55 is not divisible by 3\n",
      "54 is divisible by 3\n",
      "48 is divisible by 3\n",
      "49 is not divisible by 3\n",
      "38 is not divisible by 3\n",
      "26 is not divisible by 3\n",
      "84 is divisible by 3\n",
      "81 is divisible by 3\n",
      "76 is not divisible by 3\n",
      "100 is not divisible by 3\n"
     ]
    }
   ],
   "source": [
    "data_list=[9,27,21,45,52,77,68,72,88,83,91,92,99,78,62,55,54,48,49,38,26,84,81,76,100]\n",
    "for num in data_list:\n",
    "    if num % 3==0 :\n",
    "        print(f\"{num} is divisible by 3\")\n",
    "    else:\n",
    "         print(f\"{num} is not divisible by 3\")"
   ]
  },
  {
   "cell_type": "markdown",
   "id": "4b639b9e",
   "metadata": {},
   "source": [
    "Q7. What do you understand about mutable and immutable data types? Give examples for both showing \n",
    "this propert"
   ]
  },
  {
   "cell_type": "code",
   "execution_count": 18,
   "id": "a764bad3",
   "metadata": {},
   "outputs": [
    {
     "name": "stdout",
     "output_type": "stream",
     "text": [
      "[45, 20, 30, 40]\n"
     ]
    }
   ],
   "source": [
    "#List, Sets, and Dictionary in Python are examples of some mutable data types in Python.\n",
    "#Example :\n",
    "List1=[10,20,30,40]\n",
    "List1[0] # this will print the Value of index of 0\n",
    "#now Change the value :\n",
    "List1[0]=45\n",
    "print(List1)\n",
    "# hence the Value of the list Changed \n",
    "#Final Output is [45, 20, 30, 40]\n",
    "\n",
    "\n"
   ]
  },
  {
   "cell_type": "markdown",
   "id": "2de71c96",
   "metadata": {},
   "source": [
    "# Question no 7 , part 2 immutable data types ."
   ]
  },
  {
   "cell_type": "code",
   "execution_count": 19,
   "id": "c21d220e",
   "metadata": {},
   "outputs": [
    {
     "ename": "TypeError",
     "evalue": "'str' object does not support item assignment",
     "output_type": "error",
     "traceback": [
      "\u001b[1;31m---------------------------------------------------------------------------\u001b[0m",
      "\u001b[1;31mTypeError\u001b[0m                                 Traceback (most recent call last)",
      "Cell \u001b[1;32mIn[19], line 7\u001b[0m\n\u001b[0;32m      5\u001b[0m s1[\u001b[38;5;241m4\u001b[39m] \u001b[38;5;66;03m# till now we are able to Access the Alphabets from the String \u001b[39;00m\n\u001b[0;32m      6\u001b[0m \u001b[38;5;66;03m#let modify using index\u001b[39;00m\n\u001b[1;32m----> 7\u001b[0m s1[\u001b[38;5;241m0\u001b[39m]\u001b[38;5;241m=\u001b[39m\u001b[38;5;124m\"\u001b[39m\u001b[38;5;124mS\u001b[39m\u001b[38;5;124m\"\u001b[39m\n",
      "\u001b[1;31mTypeError\u001b[0m: 'str' object does not support item assignment"
     ]
    }
   ],
   "source": [
    "# Now check Immutable Data types : The data types which can't be changed once created like : string , tuple\n",
    "#Let's take String in this Example \n",
    "s1= 'Mithilesh'\n",
    "s1[0]\n",
    "s1[4] # till now we are able to Access the Alphabets from the String \n",
    "#let modify using index\n",
    "s1[0]=\"S\"\n",
    "\n",
    "# Giving error :----> 7 s1[0]=\"S\"\n",
    "#TypeError: 'str' object does not support item assignment\n",
    "\n",
    "# we can change Whole String . when we change the Full value of String than it's means we are Overiding the s1 Value \n",
    "# the actual value is not changed . \n",
    "#Hence it is not changeable(immutable) . "
   ]
  },
  {
   "cell_type": "code",
   "execution_count": null,
   "id": "d31bb24f",
   "metadata": {},
   "outputs": [],
   "source": []
  }
 ],
 "metadata": {
  "kernelspec": {
   "display_name": "Python 3 (ipykernel)",
   "language": "python",
   "name": "python3"
  },
  "language_info": {
   "codemirror_mode": {
    "name": "ipython",
    "version": 3
   },
   "file_extension": ".py",
   "mimetype": "text/x-python",
   "name": "python",
   "nbconvert_exporter": "python",
   "pygments_lexer": "ipython3",
   "version": "3.10.9"
  }
 },
 "nbformat": 4,
 "nbformat_minor": 5
}
