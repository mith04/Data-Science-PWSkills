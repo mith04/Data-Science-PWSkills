{
 "cells": [
  {
   "cell_type": "markdown",
   "id": "674b0ed3",
   "metadata": {},
   "source": [
    "# Q1. List any five functions of the pandas library with execution.\n",
    "\n",
    "# 1.read_csv() -- This function is used to read a CSV file into a pandas DataFrame."
   ]
  },
  {
   "cell_type": "code",
   "execution_count": null,
   "id": "dceef67d",
   "metadata": {},
   "outputs": [],
   "source": [
    "import pandas as pd\n",
    "\n",
    "# Read a CSV file into a DataFrame\n",
    "df = pd.read_csv('example.csv')\n",
    "\n",
    "# Display the DataFrame\n",
    "print(df)\n"
   ]
  },
  {
   "cell_type": "markdown",
   "id": "68760676",
   "metadata": {},
   "source": [
    "head(): This function is used to display the first few rows of a DataFrame. By default, it displays the first 5 rows.\n",
    "\n",
    "describe(): This function generates descriptive statistics of numerical columns in a DataFrame, such as count, mean, standard deviation, minimum, maximum, etc.\n",
    "\n",
    "groupby(): This function is used to group data in a DataFrame based on one or more columns and apply aggregate functions like sum, mean, count, etc.\n",
    "\n",
    "fillna(): This function is used to fill missing values (NaN) in a DataFrame with specified values."
   ]
  },
  {
   "cell_type": "code",
   "execution_count": 4,
   "id": "adeb8206",
   "metadata": {},
   "outputs": [
    {
     "name": "stdout",
     "output_type": "stream",
     "text": [
      "      Name  Age         City\n",
      "0    Alice   25     New York\n",
      "1      Bob   30  Los Angeles\n",
      "2  Charlie   35      Chicago\n",
      "             Age\n",
      "count   5.000000\n",
      "mean   35.000000\n",
      "std     7.905694\n",
      "min    25.000000\n",
      "25%    30.000000\n",
      "50%    35.000000\n",
      "75%    40.000000\n",
      "max    45.000000\n",
      "          Age\n",
      "Name         \n",
      "Alice    25.0\n",
      "Bob      30.0\n",
      "Charlie  35.0\n",
      "David    40.0\n",
      "Emily    45.0\n"
     ]
    },
    {
     "name": "stderr",
     "output_type": "stream",
     "text": [
      "C:\\Users\\Mithilesh\\AppData\\Local\\Temp\\ipykernel_1452\\3482920008.py:14: FutureWarning: The default value of numeric_only in DataFrameGroupBy.mean is deprecated. In a future version, numeric_only will default to False. Either specify numeric_only or select only columns which should be valid for the function.\n",
      "  grouped_df = df.groupby('Name').mean()\n"
     ]
    }
   ],
   "source": [
    "import pandas as pd\n",
    "\n",
    "# Create a sample DataFrame\n",
    "data = {'Name': ['Alice', 'Bob', 'Charlie', 'David', 'Emily'],\n",
    "        'Age': [25, 30, 35, 40, 45],\n",
    "        'City': ['New York', 'Los Angeles', 'Chicago', 'Houston', 'Boston']}\n",
    "df = pd.DataFrame(data)\n",
    "\n",
    "# Display the first 3 rows of the DataFrame\n",
    "print(df.head(3))\n",
    "\n",
    "print(df.describe())\n",
    "\n",
    "grouped_df = df.groupby('Name').mean()\n",
    "\n",
    "print(grouped_df)\n",
    "\n"
   ]
  },
  {
   "cell_type": "markdown",
   "id": "6a4005c1",
   "metadata": {},
   "source": [
    "# fillna()"
   ]
  },
  {
   "cell_type": "code",
   "execution_count": 6,
   "id": "fbdff593",
   "metadata": {},
   "outputs": [
    {
     "name": "stdout",
     "output_type": "stream",
     "text": [
      "      Name    Age         City\n",
      "0    Alice  25.00     New York\n",
      "1      Bob  36.25  Los Angeles\n",
      "2  Unknown  35.00      Chicago\n",
      "3    David  40.00      Houston\n",
      "4    Emily  45.00      Unknown\n"
     ]
    }
   ],
   "source": [
    "import pandas as pd\n",
    "import numpy as np\n",
    "\n",
    "# Create a sample DataFrame with missing values\n",
    "data = {'Name': ['Alice', 'Bob', np.nan, 'David', 'Emily'],\n",
    "        'Age': [25, np.nan, 35, 40, 45],\n",
    "        'City': ['New York', 'Los Angeles', 'Chicago', 'Houston', np.nan]}\n",
    "df = pd.DataFrame(data)\n",
    "\n",
    "# Fill missing values in 'Name' and 'City' columns with 'Unknown', and 'Age' column with the mean age\n",
    "filled_df = df.fillna({'Name': 'Unknown', 'City': 'Unknown', 'Age': df['Age'].mean()})\n",
    "\n",
    "# Display the filled DataFrame\n",
    "print(filled_df)\n"
   ]
  },
  {
   "cell_type": "code",
   "execution_count": null,
   "id": "f30b4a09",
   "metadata": {},
   "outputs": [],
   "source": []
  },
  {
   "cell_type": "markdown",
   "id": "78cd5596",
   "metadata": {},
   "source": [
    "# Q2. Given a Pandas DataFrame df with columns 'A', 'B', and 'C', write a Python function to re-index the DataFrame with a new index that starts from 1 and increments by 2 for each row"
   ]
  },
  {
   "cell_type": "code",
   "execution_count": 14,
   "id": "2d122970",
   "metadata": {},
   "outputs": [
    {
     "name": "stdout",
     "output_type": "stream",
     "text": [
      "    A   B    C\n",
      "0  10  40   80\n",
      "1  20  50   90\n",
      "2  30  60  100\n",
      "==========REINDEXED=============\n",
      "    A   B    C\n",
      "1  10  40   80\n",
      "3  20  50   90\n",
      "5  30  60  100\n"
     ]
    }
   ],
   "source": [
    "import pandas as pd \n",
    "\n",
    "def reindex_with_increment(df):\n",
    "    # reset  the existing index and drop  the old one \n",
    "    df_reset=df.reset_index(drop=True)\n",
    "    \n",
    "    #create new Index\n",
    "    new_index=pd.Index(range(1,2*len(df_reset)+1,2))\n",
    "    \n",
    "    #assign the new index to Data Frame\n",
    "    df_reset.index=new_index\n",
    "    \n",
    "    return df_reset\n",
    "\n",
    "#example Data frame \n",
    "\n",
    "data={'A':[10,20,30],\n",
    "      'B':[40,50,60],\n",
    "       'C':[80,90,100]\n",
    "       }\n",
    "       \n",
    "df=pd.DataFrame(data)\n",
    "print(df)\n",
    "\n",
    "\n",
    "#re-indexing \n",
    "print(\"==========REINDEXED=============\")\n",
    "df_reindexed=reindex_with_increment(df)\n",
    "print(df_reindexed)"
   ]
  },
  {
   "cell_type": "markdown",
   "id": "6a5b37f9",
   "metadata": {},
   "source": [
    "# 3. You have a Pandas DataFrame df with a column named 'Values'. Write a Python function that iterates over the DataFrame and calculates the sum of the first three values in the 'Values' column. The function should print the sum to the console.\n",
    "\n",
    "# For example, if the 'Values' column of df contains the values [10, 20, 30, 40, 50], your function should calculate and print the sum of the first three values, which is 60"
   ]
  },
  {
   "cell_type": "code",
   "execution_count": 16,
   "id": "ec449d9e",
   "metadata": {},
   "outputs": [
    {
     "name": "stdout",
     "output_type": "stream",
     "text": [
      "sum of the 3 values: 60\n"
     ]
    }
   ],
   "source": [
    "import pandas as pd \n",
    "data={'Values':[10,20,30,40,50]}\n",
    "df=pd.DataFrame(data)\n",
    "#print(df)\n",
    "\n",
    "def calculate_three_numbers(df):\n",
    "    value_series=df['Values']\n",
    "    \n",
    "    sum_first_three=value_series.head(3).sum()\n",
    "    \n",
    "    print('sum of the 3 values:',sum_first_three)\n",
    "    \n",
    "calculate_three_numbers(df)"
   ]
  },
  {
   "cell_type": "markdown",
   "id": "e47ab3a0",
   "metadata": {},
   "source": [
    "# Given a Pandas DataFrame df with a column 'Text', write a Python function to create a new column 'Word_Count' that contains the number of words in each row of the 'Text' column"
   ]
  },
  {
   "cell_type": "code",
   "execution_count": 5,
   "id": "6a43ce3e",
   "metadata": {},
   "outputs": [
    {
     "name": "stdout",
     "output_type": "stream",
     "text": [
      "                                          Text  word_count\n",
      "0                        This is a Sample text           5\n",
      "1  Second Sentence we are Checking word counts           7\n",
      "2                 testing word count in python           5\n"
     ]
    }
   ],
   "source": [
    "import pandas as pd\n",
    "\n",
    "data={'Text':['This is a Sample text','Second Sentence we are Checking word counts','testing word count in python']}\n",
    "\n",
    "df=pd.DataFrame(data)\n",
    "#print(df)\n",
    "\n",
    "def count_words(text):\n",
    "    words=text.split() # split in to words\n",
    "    return len(words)\n",
    "\n",
    "df['word_count']=df['Text'].apply(count_words)\n",
    "\n",
    "print(df)"
   ]
  },
  {
   "cell_type": "markdown",
   "id": "25570619",
   "metadata": {},
   "source": [
    "# Q5. How are DataFrame.size() and DataFrame.shape() different?\n"
   ]
  },
  {
   "cell_type": "markdown",
   "id": "7ecd0740",
   "metadata": {},
   "source": [
    "DataFrame.size:\n",
    "\n",
    "DataFrame.size returns the total number of elements in the DataFrame, which is calculated by multiplying the number of rows by the number of columns\n",
    "The size attribute gives the count of all elements, including NaN or missing values, in the DataFrame.\n",
    "\n",
    "DataFrame.shape:\n",
    "\n",
    "DataFrame.shape returns a tuple representing the dimensions of the DataFrame, where the first element is the number of rows and the second element is the number of columns.\n",
    "This attribute does not count NaN or missing values when determining the shape of the DataFrame."
   ]
  },
  {
   "cell_type": "markdown",
   "id": "f21f254e",
   "metadata": {},
   "source": [
    "# Q6. Which function of pandas do we use to read an excel file?\n"
   ]
  },
  {
   "cell_type": "markdown",
   "id": "b40a9145",
   "metadata": {},
   "source": [
    "read_excel() is used to read an excel file \n",
    "\n"
   ]
  },
  {
   "cell_type": "markdown",
   "id": "620c81d4",
   "metadata": {},
   "source": [
    "# Q7. You have a Pandas DataFrame df that contains a column named 'Email' that contains email addresses in the format 'username@domain.com'. Write a Python function that creates a new column 'Username' in df that contains only the username part of each email address.\n",
    "\n",
    "# The username is the part of the email address that appears before the '@' symbol. For example, if the email address is 'john.doe@example.com', the 'Username' column should contain 'john.doe'. Your function should extract the username from each email address and store it in the new 'Username' column."
   ]
  },
  {
   "cell_type": "code",
   "execution_count": 3,
   "id": "6506cde7",
   "metadata": {},
   "outputs": [
    {
     "name": "stdout",
     "output_type": "stream",
     "text": [
      "                     Email     Username\n",
      "0     john.doe@example.com     john.doe\n",
      "1   jane.smith@example.com   jane.smith\n",
      "2  bob.jackson@example.com  bob.jackson\n"
     ]
    }
   ],
   "source": [
    "import pandas as pd\n",
    "data={'Email':['john.doe@example.com','jane.smith@example.com','bob.jackson@example.com']}\n",
    "df=pd.DataFrame(data)\n",
    "def extract_username(email):\n",
    "    return email.split('@')[0]\n",
    "\n",
    "df['Username']=df['Email'].apply(lambda x:extract_username(x))\n",
    "\n",
    "print(df)\n"
   ]
  },
  {
   "cell_type": "markdown",
   "id": "63a780a1",
   "metadata": {},
   "source": [
    "# 8. You have a Pandas DataFrame df with columns 'A', 'B', and 'C'. Write a Python function that selects all rows where the value in column 'A' is greater than 5 and the value in column 'B' is less than 10. The function should return a new DataFrame that contains only the selected rows.For example, if df contains the following values:\n",
    "\n",
    "   A   B   C\n",
    "\n",
    "0  3   5   1\n",
    "\n",
    "1  8   2   7\n",
    "\n",
    "2  6   9   4\n",
    "\n",
    "3  2   3   5\n",
    "\n",
    "4  9   1   2\n",
    "\n",
    "# Your function should select the following rows:   A   B   C\n",
    "\n",
    "1  8   2   7\n",
    "\n",
    "4  9   1   2\n",
    "\n",
    "The function should return a new DataFrame that contains only the selected rows."
   ]
  },
  {
   "cell_type": "code",
   "execution_count": 8,
   "id": "994784b5",
   "metadata": {},
   "outputs": [
    {
     "name": "stdout",
     "output_type": "stream",
     "text": [
      "   A  B  C\n",
      "1  8  2  7\n",
      "2  6  9  4\n",
      "4  9  1  2\n"
     ]
    }
   ],
   "source": [
    "import pandas as pd\n",
    "\n",
    "data={\n",
    "    'A':[3,8,6,2,9],\n",
    "    'B':[5,2,9,3,1],\n",
    "    'C':[1,7,4,5,2]\n",
    "}\n",
    "\n",
    "df=pd.DataFrame(data)\n",
    "#print(df)\n",
    "\n",
    "def selected_rows(df):\n",
    "    selected_data=df[(df['A']>5) &(df['B']<10)]\n",
    "    \n",
    "    return selected_data\n",
    "\n",
    "selected_df=selected_rows(df)\n",
    "\n",
    "print(selected_df)"
   ]
  },
  {
   "cell_type": "markdown",
   "id": "1d24c014",
   "metadata": {},
   "source": [
    "# 9. Given a Pandas DataFrame df with a column 'Values', write a Python function to calculate the mean, median, and standard deviation of the values in the 'Values' column."
   ]
  },
  {
   "cell_type": "code",
   "execution_count": 10,
   "id": "fad2ddf9",
   "metadata": {},
   "outputs": [
    {
     "name": "stdout",
     "output_type": "stream",
     "text": [
      "Mean:38.0\n",
      "Median :40.0\n",
      "std_dev_value:19.235384061671343\n"
     ]
    }
   ],
   "source": [
    "import pandas as pd \n",
    "data={'Value':[10,30,40,50,60]}\n",
    "df=pd.DataFrame(data)\n",
    "\n",
    "def calculate_stats(df,column_name):\n",
    "    column_values = df[column_name]\n",
    "    \n",
    "    mean_value=column_values.mean()\n",
    "    median_value=column_values.median()\n",
    "    std_dev_value=column_values.std()\n",
    "    \n",
    "    return mean_value,median_value,std_dev_value\n",
    "\n",
    "mean_value,median_value,std_dev_value=calculate_stats(df,'Value')\n",
    "\n",
    "print(f\"Mean:{mean_value}\")\n",
    "print(f\"Median :{median_value}\")\n",
    "print(f\"std_dev_value:{std_dev_value}\")"
   ]
  },
  {
   "cell_type": "markdown",
   "id": "f96501d8",
   "metadata": {},
   "source": [
    "# 10. Given a Pandas DataFrame df with a column 'Sales' and a column 'Date', write a Python function to create a new column 'MovingAverage' that contains the moving average of the sales for the past 7 days for each row in the DataFrame. The moving average should be calculated using a window of size 7 and should include the current day."
   ]
  },
  {
   "cell_type": "code",
   "execution_count": 15,
   "id": "3d7ceb8f",
   "metadata": {},
   "outputs": [
    {
     "name": "stdout",
     "output_type": "stream",
     "text": [
      "        Date  Sales  MovingAverage\n",
      "0 2024-01-01    100     100.000000\n",
      "1 2024-01-02    150     125.000000\n",
      "2 2024-01-03    200     150.000000\n",
      "3 2024-01-04    250     175.000000\n",
      "4 2024-01-05    300     200.000000\n",
      "5 2024-01-06    350     225.000000\n",
      "6 2024-01-07    400     250.000000\n",
      "7 2024-01-08    450     300.000000\n",
      "8 2024-01-09    500     350.000000\n",
      "9 2024-01-10    600     407.142857\n"
     ]
    }
   ],
   "source": [
    "import pandas as pd \n",
    "data={'Date':pd.date_range('2024-01-01',periods=10),\n",
    "     'Sales': [100,150,200,250,300,350,400,450,500,600]}\n",
    "\n",
    "df=pd.DataFrame(data)\n",
    "def calculate_average_moving(df,window_size=7):\n",
    "    df['MovingAverage']=df['Sales'].rolling(window=window_size,min_periods=1).mean()\n",
    "    \n",
    "    return df\n",
    "df_with_average=calculate_average_moving(df,window_size=7)\n",
    "print(df_with_average)"
   ]
  },
  {
   "cell_type": "markdown",
   "id": "5742e976",
   "metadata": {},
   "source": [
    "# Q11. You have a Pandas DataFrame df with a column 'Date'. Write a Python function that creates a new column 'Weekday' in the DataFrame. The 'Weekday' column should contain the weekday name (e.g. Monday, Tuesday) corresponding to each date in the 'Date' column.\n",
    "\n",
    "# For example, if df contains the following values:\n",
    "\n",
    "         Date\n",
    "\n",
    "0  2023-01-01\n",
    "\n",
    "1  2023-01-02\n",
    "\n",
    "2  2023-01-03\n",
    "\n",
    "3  2023-01-04\n",
    "\n",
    "4  2023-01-05\n",
    "\n",
    "Your function should create the following DataFrame:\n",
    "\n",
    "\n",
    "  Date    Weekday\n",
    "\n",
    "0  2023-01-01    Sunday\n",
    "\n",
    "1  2023-01-02     Monday\n",
    "\n",
    "2  2023-01-03    Tuesday\n",
    "\n",
    "3  2023-01-04    Wednesday\n",
    "\n",
    "4  2023-01-05    Thursday\n",
    "\n",
    "The function should return the modified DataFrame"
   ]
  },
  {
   "cell_type": "code",
   "execution_count": 26,
   "id": "e477f7e4",
   "metadata": {},
   "outputs": [
    {
     "name": "stdout",
     "output_type": "stream",
     "text": [
      "        Date    Weekday\n",
      "0 2024-02-01   Thursday\n",
      "1 2024-02-02     Friday\n",
      "2 2024-02-03   Saturday\n",
      "3 2024-02-04     Sunday\n",
      "4 2024-02-05     Monday\n",
      "5 2024-02-06    Tuesday\n",
      "6 2024-02-07  Wednesday\n"
     ]
    }
   ],
   "source": [
    "import pandas as pd \n",
    "data={'Date':pd.date_range('2024-02-01',periods=7)}\n",
    "\n",
    "df=pd.DataFrame(data)\n",
    "#print(df)\n",
    "\n",
    "def print_weekdays(df,date_column_name='Date',weekday_column_name='Weekday'):\n",
    "    df[weekday_column_name]=df[date_column_name].dt.day_name()\n",
    "    return df\n",
    "df_with_weekdays=print_weekdays(df)\n",
    "\n",
    "print(df_with_weekdays)"
   ]
  },
  {
   "cell_type": "markdown",
   "id": "20cbbd74",
   "metadata": {},
   "source": [
    "# Q12. Given a Pandas DataFrame df with a column 'Date' that contains timestamps, write a Python function to select all rows where the date is between '2023-01-01' and '2023-01-31'."
   ]
  },
  {
   "cell_type": "code",
   "execution_count": 7,
   "id": "6ec27550",
   "metadata": {},
   "outputs": [
    {
     "name": "stdout",
     "output_type": "stream",
     "text": [
      "         Date\n",
      "0  2024-01-01\n",
      "1  2024-01-02\n",
      "2  2024-01-03\n",
      "3  2024-01-04\n",
      "4  2024-01-05\n",
      "..        ...\n",
      "85 2024-03-26\n",
      "86 2024-03-27\n",
      "87 2024-03-28\n",
      "88 2024-03-29\n",
      "89 2024-03-30\n",
      "\n",
      "[90 rows x 1 columns]\n",
      "         Date\n",
      "0  2024-01-01\n",
      "1  2024-01-02\n",
      "2  2024-01-03\n",
      "3  2024-01-04\n",
      "4  2024-01-05\n",
      "5  2024-01-06\n",
      "6  2024-01-07\n",
      "7  2024-01-08\n",
      "8  2024-01-09\n",
      "9  2024-01-10\n",
      "10 2024-01-11\n",
      "11 2024-01-12\n",
      "12 2024-01-13\n",
      "13 2024-01-14\n",
      "14 2024-01-15\n",
      "15 2024-01-16\n",
      "16 2024-01-17\n",
      "17 2024-01-18\n",
      "18 2024-01-19\n",
      "19 2024-01-20\n",
      "20 2024-01-21\n",
      "21 2024-01-22\n",
      "22 2024-01-23\n",
      "23 2024-01-24\n",
      "24 2024-01-25\n",
      "25 2024-01-26\n",
      "26 2024-01-27\n",
      "27 2024-01-28\n",
      "28 2024-01-29\n",
      "29 2024-01-30\n",
      "30 2024-01-31\n"
     ]
    }
   ],
   "source": [
    "import pandas as pd\n",
    "\n",
    "#creating Dataframe \n",
    "data = {'Date': pd.date_range('2024-01-01', periods=90)}\n",
    "df = pd.DataFrame(data)\n",
    "print(df)\n",
    "\n",
    "def select_rows_between_dates(df):\n",
    "    # Convert 'Date' column to datetime format\n",
    "    df['Date'] = pd.to_datetime(df['Date'])\n",
    "    \n",
    "    # Define the date range based on the available data\n",
    "    start_date = '2024-01-01'\n",
    "    end_date = '2024-01-31'\n",
    "    \n",
    "    # Filter rows within the date range\n",
    "    filtered_df = df[(df['Date'] >= start_date) & (df['Date'] <= end_date)]\n",
    "    \n",
    "    return filtered_df\n",
    "\n",
    "xx = select_rows_between_dates(df)\n",
    "print(xx)\n"
   ]
  },
  {
   "cell_type": "markdown",
   "id": "f4711342",
   "metadata": {},
   "source": [
    "# Q13. To use the basic functions of pandas, what is the first and foremost necessary library that needs to be imported?"
   ]
  },
  {
   "cell_type": "markdown",
   "id": "108c202c",
   "metadata": {},
   "source": [
    "The first and foremost necessary library that needs to be imported to use the basic functions of Pandas is the Pandas library itself.\n",
    "\n",
    "\n",
    "**import pandas as pd**\n"
   ]
  },
  {
   "cell_type": "code",
   "execution_count": null,
   "id": "06fb8d80",
   "metadata": {},
   "outputs": [],
   "source": []
  }
 ],
 "metadata": {
  "kernelspec": {
   "display_name": "Python 3 (ipykernel)",
   "language": "python",
   "name": "python3"
  },
  "language_info": {
   "codemirror_mode": {
    "name": "ipython",
    "version": 3
   },
   "file_extension": ".py",
   "mimetype": "text/x-python",
   "name": "python",
   "nbconvert_exporter": "python",
   "pygments_lexer": "ipython3",
   "version": "3.10.9"
  }
 },
 "nbformat": 4,
 "nbformat_minor": 5
}
