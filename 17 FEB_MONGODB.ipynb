{
 "cells": [
  {
   "cell_type": "markdown",
   "id": "bf0f9aaa",
   "metadata": {},
   "source": [
    "# 1. What is MongoDB? Explain non-relational databases in short. In which scenarios it is preferred to use MongoDB over SQL databases?"
   ]
  },
  {
   "cell_type": "markdown",
   "id": "77ac27ff",
   "metadata": {},
   "source": [
    "\n",
    "MongoDB is a popular open-source NoSQL database management system that uses a document-oriented data model. In contrast to traditional SQL databases, which use structured tables and rows, MongoDB stores data in flexible JSON-like documents with dynamic schemas, making it highly scalable and adaptable to evolving data needs.\n",
    "\n",
    "Non-relational databases, often referred to as NoSQL databases, are designed to handle large volumes of unstructured or semi-structured data more efficiently than traditional SQL databases. They are suitable for use cases where the data structure may vary, and the focus is on horizontal scalability, performance, and flexibility rather than strict consistency and relational data modeling.\n",
    "\n",
    "**MongoDB is preferred over SQL databases in scenarios that require flexibility, scalability, performance with large datasets, handling semi-structured or unstructured data, real-time analytics, cloud-native architectures, and agile development practices."
   ]
  },
  {
   "cell_type": "markdown",
   "id": "e3ffffee",
   "metadata": {},
   "source": [
    "# 2. State and Explain the features of MongoDB"
   ]
  },
  {
   "cell_type": "markdown",
   "id": "0045f68a",
   "metadata": {},
   "source": [
    "\n",
    "1. **Flexible Schema:**\n",
    "   - MongoDB uses a flexible document-based data model, allowing you to store data in JSON-like documents without a predefined schema. This flexibility makes it easy to evolve your data model as your application requirements change over time.\n",
    "\n",
    "2. **Scalability:**\n",
    "   - MongoDB is designed to scale horizontally across multiple servers, allowing you to handle large volumes of data and high traffic loads efficiently. \n",
    "\n",
    "3. **High Performance:**\n",
    "   - MongoDB offers high-performance read and write operations by using in-memory caching, efficient indexing, and native support for ad-hoc queries. It also supports aggregation pipelines for complex data processing tasks.\n",
    "\n",
    "4. **Rich Query Language:**\n",
    "   - MongoDB provides a powerful query language that supports a wide range of operations, including CRUD (Create, Read, Update, Delete), aggregation, indexing, sorting, filtering, and geospatial queries. This allows you to retrieve and manipulate data in various ways to meet your application's needs.\n",
    "\n",
    "5. **Indexing:**\n",
    "   - MongoDB supports various types of indexes, including single-field, compound, multi-key, geospatial, and text indexes. Indexing improves query performance by enabling faster data retrieval and efficient query optimization.\n",
    "\n",
    "6. **Data Replication and High Availability:**\n",
    "   - MongoDB uses replica sets to replicate data across multiple nodes, ensuring data redundancy, fault tolerance, and automatic failover in case of node failures. This helps maintain data consistency and availability for mission-critical applications.\n",
    "\n",
    "7. **Security:**\n",
    "   - MongoDB offers robust security features, including authentication, authorization, role-based access control (RBAC), TLS/SSL encryption for data in transit, auditing, and encryption at rest. These features help protect your data against unauthorized access, tampering, and data breaches.\n",
    "\n",
    "8. **Aggregation Framework:**\n",
    "   - MongoDB's aggregation framework allows you to perform complex data aggregation operations, such as grouping, filtering, projecting, joining, and sorting data within the database server. \n",
    "\n",
    "9. **Geospatial Queries:**\n",
    "   - MongoDB provides native support for geospatial data and queries, making it suitable for location-based applications and spatial analysis.\n",
    "\n",
    "10. **Ease of Development:**\n",
    "    - MongoDB is developer-friendly, offering drivers and APIs for various programming languages (e.g., Python, Java, Node.js) and frameworks.\n"
   ]
  },
  {
   "cell_type": "markdown",
   "id": "c2f6eafe",
   "metadata": {},
   "source": [
    "# Q3. Write a code to connect MongoDB to Python. Also, create a database and a collection in MongoDB."
   ]
  },
  {
   "cell_type": "code",
   "execution_count": null,
   "id": "753fb592",
   "metadata": {},
   "outputs": [],
   "source": [
    "# install pip pymongo\n",
    "\n",
    "\n",
    "import pymongo\n",
    "\n",
    "# Establish a connection to MongoDB\n",
    "client = pymongo.MongoClient(\"mongodb://localhost:27017/\")  # Assuming MongoDB is running locally on the default port\n",
    "\n",
    "# Create a new database called \"mydatabase\"\n",
    "mydb = client[\"mydatabase\"]\n",
    "\n",
    "# Create a new collection called \"customers\" within the \"mydatabase\" database\n",
    "mycol = mydb[\"customers\"]\n",
    "\n",
    "# Insert a document into the \"customers\" collection\n",
    "customer_data = {\"name\": \"John Doe\", \"email\": \"john.doe@example.com\", \"age\": 30}\n",
    "mycol.insert_one(customer_data)\n",
    "\n",
    "# Print the inserted document's ID\n",
    "print(\"Inserted document ID:\", customer_data[\"_id\"])\n",
    "\n",
    "# Close the connection to MongoDB\n",
    "client.close()\n"
   ]
  },
  {
   "cell_type": "markdown",
   "id": "71bfa2ec",
   "metadata": {},
   "source": [
    "# 4. Using the database and the collection created in question number 3, write a code to insert one record, and insert many records. Use the find() and find_one() methods to print the inserted record."
   ]
  },
  {
   "cell_type": "code",
   "execution_count": null,
   "id": "3ddead61",
   "metadata": {},
   "outputs": [],
   "source": [
    "import pymongo\n",
    "\n",
    "# Establish a connection to MongoDB\n",
    "client = pymongo.MongoClient(\"mongodb://localhost:27017/\")  # Assuming MongoDB is running locally on the default port\n",
    "\n",
    "# Access the \"mydatabase\" database and \"customers\" collection\n",
    "mydb = client[\"mydatabase\"]\n",
    "mycol = mydb[\"customers\"]\n",
    "\n",
    "# Insert one record\n",
    "customer_data_one = {\"name\": \"Jane Smith\", \"email\": \"jane.smith@example.com\", \"age\": 25}\n",
    "mycol.insert_one(customer_data_one)\n",
    "\n",
    "# Insert many records\n",
    "customer_data_many = [\n",
    "    {\"name\": \"Michael Johnson\", \"email\": \"michael.johnson@example.com\", \"age\": 35},\n",
    "    {\"name\": \"Emily Brown\", \"email\": \"emily.brown@example.com\", \"age\": 28},\n",
    "    {\"name\": \"Daniel Wilson\", \"email\": \"daniel.wilson@example.com\", \"age\": 40}\n",
    "]\n",
    "mycol.insert_many(customer_data_many)\n",
    "\n",
    "# Print the inserted record using find_one()\n",
    "print(\"Inserted record using find_one():\")\n",
    "print(mycol.find_one({\"name\": \"Jane Smith\"}))\n",
    "\n",
    "# Print all inserted records using find()\n",
    "print(\"\\nInserted records using find():\")\n",
    "for record in mycol.find():\n",
    "    print(record)\n",
    "\n",
    "# Close the connection to MongoDB\n",
    "client.close()\n"
   ]
  },
  {
   "cell_type": "markdown",
   "id": "4842ca35",
   "metadata": {},
   "source": [
    "# 5. Explain how you can use the find() method to query the MongoDB database. Write a simple code to demonstrate this."
   ]
  },
  {
   "cell_type": "markdown",
   "id": "c8d5f6d9",
   "metadata": {},
   "source": [
    "The find() method in MongoDB is used to query a collection and retrieve documents that match the specified criteria. It allows you to perform various types of queries, such as finding all documents, filtering based on specific fields, sorting results, limiting the number of returned documents, and more."
   ]
  },
  {
   "cell_type": "code",
   "execution_count": null,
   "id": "2dccf381",
   "metadata": {},
   "outputs": [],
   "source": [
    "import pymongo\n",
    "\n",
    "# Establish a connection to MongoDB\n",
    "client = pymongo.MongoClient(\"mongodb://localhost:27017/\")  # Assuming MongoDB is running locally on the default port\n",
    "\n",
    "# Access the \"mydatabase\" database and \"customers\" collection\n",
    "mydb = client[\"mydatabase\"]\n",
    "mycol = mydb[\"customers\"]\n",
    "\n",
    "# Perform a find operation to retrieve all documents\n",
    "cursor = mycol.find()\n",
    "\n",
    "# Iterate over the cursor and print the retrieved documents\n",
    "print(\"All Documents in the Collection:\")\n",
    "for document in cursor:\n",
    "    print(document)\n",
    "\n",
    "# Close the connection to MongoDB\n",
    "client.close()\n"
   ]
  },
  {
   "cell_type": "markdown",
   "id": "706f41f6",
   "metadata": {},
   "source": [
    "# 6. Explain the sort() method. Give an example to demonstrate sorting in MongoDB"
   ]
  },
  {
   "cell_type": "markdown",
   "id": "36ce3cb3",
   "metadata": {},
   "source": [
    "The sort() method in MongoDB is used to sort the documents returned by a query based on one or more fields in ascending or descending order. It allows you to control the order in which documents are retrieved from a collection, which can be useful for presenting data in a specific order or performing operations that require sorted data."
   ]
  },
  {
   "cell_type": "code",
   "execution_count": null,
   "id": "14e537ff",
   "metadata": {},
   "outputs": [],
   "source": [
    "import pymongo\n",
    "\n",
    "# Establish a connection to MongoDB\n",
    "client = pymongo.MongoClient(\"mongodb://localhost:27017/\")  # Assuming MongoDB is running locally on the default port\n",
    "\n",
    "# Access the \"mydatabase\" database and \"customers\" collection\n",
    "mydb = client[\"mydatabase\"]\n",
    "mycol = mydb[\"customers\"]\n",
    "\n",
    "# Insert some sample data into the collection\n",
    "sample_data = [\n",
    "    {\"name\": \"Alice\", \"age\": 25},\n",
    "    {\"name\": \"Bob\", \"age\": 30},\n",
    "    {\"name\": \"Charlie\", \"age\": 20}\n",
    "]\n",
    "mycol.insert_many(sample_data)\n",
    "\n",
    "# Perform a find operation and sort the documents by the \"age\" field in ascending order\n",
    "cursor_asc = mycol.find().sort(\"age\", pymongo.ASCENDING)\n",
    "\n",
    "# Iterate over the cursor and print the sorted documents (ascending order)\n",
    "print(\"Sorted Documents (Ascending Order):\")\n",
    "for document in cursor_asc:\n",
    "    print(document)\n",
    "\n",
    "# Perform a find operation and sort the documents by the \"age\" field in descending order\n",
    "cursor_desc = mycol.find().sort(\"age\", pymongo.DESCENDING)\n",
    "\n",
    "# Iterate over the cursor and print the sorted documents (descending order)\n",
    "print(\"\\nSorted Documents (Descending Order):\")\n",
    "for document in cursor_desc:\n",
    "    print(document)\n",
    "\n",
    "# Close the connection to MongoDB\n",
    "client.close()\n"
   ]
  },
  {
   "cell_type": "markdown",
   "id": "ef35c178",
   "metadata": {},
   "source": [
    "# 7. Explain why delete_one(), delete_many(), and drop() is used"
   ]
  },
  {
   "cell_type": "markdown",
   "id": "66989e84",
   "metadata": {},
   "source": [
    "**1.delete_one() Method:\n",
    "\n",
    "This method is used to delete a single document that matches a specific criteria from a collection.\n",
    "\n",
    "**2. delete_many() Method:\n",
    "\n",
    "This method is used to delete multiple documents that match a specific criteria from a collection.\n",
    "\n",
    "**3. drop() Method:\n",
    "\n",
    "The drop() method is used to delete an entire collection from the database, including all its documents."
   ]
  },
  {
   "cell_type": "code",
   "execution_count": null,
   "id": "756e1d50",
   "metadata": {},
   "outputs": [],
   "source": []
  }
 ],
 "metadata": {
  "kernelspec": {
   "display_name": "Python 3 (ipykernel)",
   "language": "python",
   "name": "python3"
  },
  "language_info": {
   "codemirror_mode": {
    "name": "ipython",
    "version": 3
   },
   "file_extension": ".py",
   "mimetype": "text/x-python",
   "name": "python",
   "nbconvert_exporter": "python",
   "pygments_lexer": "ipython3",
   "version": "3.10.9"
  }
 },
 "nbformat": 4,
 "nbformat_minor": 5
}
